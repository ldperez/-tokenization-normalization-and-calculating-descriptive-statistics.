{
 "cells": [
  {
   "cell_type": "markdown",
   "id": "7f79baf9",
   "metadata": {},
   "source": [
    "# ADS 509 Assignment 2.1: Tokenization, Normalization, Descriptive Statistics \n",
    "\n",
    "This notebook holds Assignment 2.1 for Module 2 in ADS 509, Applied Text Mining. Work through this notebook, writing code and answering questions where required. \n",
    "\n",
    "In the previous assignment you put together Twitter data and lyrics data on two artists. In this assignment we explore some of the textual features of those data sets. If, for some reason, you did not complete that previous assignment, data to use for this assignment can be found in the assignment materials section of Blackboard. \n",
    "\n",
    "This assignment asks you to write a short function to calculate some descriptive statistics on a piece of text. Then you are asked to find some interesting and unique statistics on your corpora. \n"
   ]
  },
  {
   "cell_type": "markdown",
   "id": "aae8e2e1",
   "metadata": {},
   "source": [
    "## General Assignment Instructions\n",
    "\n",
    "These instructions are included in every assignment, to remind you of the coding standards for the class. Feel free to delete this cell after reading it. \n",
    "\n",
    "One sign of mature code is conforming to a style guide. We recommend the [Google Python Style Guide](https://google.github.io/styleguide/pyguide.html). If you use a different style guide, please include a cell with a link. \n",
    "\n",
    "Your code should be relatively easy-to-read, sensibly commented, and clean. Writing code is a messy process, so please be sure to edit your final submission. Remove any cells that are not needed or parts of cells that contain unnecessary code. Remove inessential `import` statements and make sure that all such statements are moved into the designated cell. \n",
    "\n",
    "Make use of non-code cells for written commentary. These cells should be grammatical and clearly written. In some of these cells you will have questions to answer. The questions will be marked by a \"Q:\" and will have a corresponding \"A:\" spot for you. *Make sure to answer every question marked with a `Q:` for full credit.* \n"
   ]
  },
  {
   "cell_type": "code",
   "execution_count": 914,
   "id": "e2d096b7",
   "metadata": {},
   "outputs": [],
   "source": [
    "import os\n",
    "import re\n",
    "import emoji\n",
    "import pandas as pd\n",
    "import numpy as np\n",
    "\n",
    "from collections import Counter, defaultdict\n",
    "from nltk.corpus import stopwords\n",
    "from string import punctuation\n",
    "\n",
    "sw = stopwords.words(\"english\")"
   ]
  },
  {
   "cell_type": "code",
   "execution_count": 915,
   "id": "6b555ab2",
   "metadata": {},
   "outputs": [],
   "source": [
    "# Add any additional import statements you need here\n",
    "import string\n",
    "import matplotlib \n",
    "import emoji"
   ]
  },
  {
   "cell_type": "code",
   "execution_count": 916,
   "id": "923b5a86",
   "metadata": {},
   "outputs": [],
   "source": [
    "# change `data_location` to the location of the folder on your machine.\n",
    "data_location = \"/Users/Luis Perez/Documents/\"\n",
    "\n",
    "# These subfolders should still work if you correctly stored the \n",
    "# data from the Module 1 assignment\n",
    "twitter_folder = \"twitter/\"\n",
    "lyrics_folder = \"lyrics/\""
   ]
  },
  {
   "cell_type": "code",
   "execution_count": 917,
   "id": "06522af9",
   "metadata": {},
   "outputs": [],
   "source": [
    "def descriptive_stats(tokens, num_tokens = 5, verbose=True) :\n",
    "    \"\"\"\n",
    "        Given a list of tokens, print number of tokens, number of unique tokens, \n",
    "        number of characters, lexical diversity (https://en.wikipedia.org/wiki/Lexical_diversity), \n",
    "        and num_tokens most common tokens. Return a list with the number of tokens, number\n",
    "        of unique tokens, lexical diversity, and number of characters. \n",
    "    \n",
    "    \"\"\"\n",
    "\n",
    "    # Fill in the correct values here. \n",
    "    num_tokens = len(tokens)\n",
    "    num_unique_tokens = len(set(tokens))\n",
    "    lexical_diversity = len(set(tokens)) / len(tokens)\n",
    "    num_characters = sum(len(token)for token in tokens)\n",
    "    #x=sum([len(songs) for songs in cleaned_lyrics['cher'].values()])\n",
    "\n",
    "    \n",
    "    if verbose :        \n",
    "        print(f\"There are {num_tokens} tokens in the data.\")\n",
    "        print(f\"There are {num_unique_tokens} unique tokens in the data.\")\n",
    "        print(f\"There are {num_characters} characters in the data.\")\n",
    "        print(f\"The lexical diversity is {lexical_diversity:.3f} in the data.\")\n",
    "    \n",
    "        # print the five most common tokens\n",
    "        \n",
    "    return([num_tokens, num_unique_tokens,\n",
    "            lexical_diversity,\n",
    "            num_characters])\n",
    "    "
   ]
  },
  {
   "cell_type": "code",
   "execution_count": 918,
   "id": "59dcf058",
   "metadata": {},
   "outputs": [
    {
     "name": "stdout",
     "output_type": "stream",
     "text": [
      "There are 13 tokens in the data.\n",
      "There are 9 unique tokens in the data.\n",
      "There are 55 characters in the data.\n",
      "The lexical diversity is 0.692 in the data.\n"
     ]
    }
   ],
   "source": [
    "text = \"\"\"here is some example text with other example text here in this text\"\"\".split()\n",
    "assert(descriptive_stats(text, verbose=True)[0] == 13)\n",
    "assert(descriptive_stats(text, verbose=False)[1] == 9)\n",
    "assert(abs(descriptive_stats(text, verbose=False)[2] - 0.69) < 0.02)\n",
    "assert(descriptive_stats(text, verbose=False)[3] == 55)\n"
   ]
  },
  {
   "cell_type": "markdown",
   "id": "d2e7e1a2",
   "metadata": {},
   "source": [
    "Q: Why is it beneficial to use assertion statements in your code? \n",
    "\n",
    "A: Assertion are useful for both documentation and debugging code. They are most commonly used in testing and user validation. What I understand you want to use them in your code when you want easy to undestand code."
   ]
  },
  {
   "cell_type": "markdown",
   "id": "9d3bf93e",
   "metadata": {},
   "source": [
    "## Data Input\n",
    "\n",
    "Now read in each of the corpora. For the lyrics data, it may be convenient to store the entire contents of the file to make it easier to inspect the titles individually, as you'll do in the last part of the assignment. In the solution, I stored the lyrics data in a dictionary with two dimensions of keys: artist and song. The value was the file contents. A data frame would work equally well. \n",
    "\n",
    "For the Twitter data, we only need the description field for this assignment. Feel free all the descriptions read it into a data structure. In the solution, I stored the descriptions as a dictionary of lists, with the key being the artist. \n",
    "\n",
    "\n"
   ]
  },
  {
   "cell_type": "code",
   "execution_count": 919,
   "id": "266d39aa",
   "metadata": {},
   "outputs": [],
   "source": [
    "# Read in the lyrics data\n",
    "#data_location = \"/Users/Luis Perez/Documents/lyrics\"\n",
    "\n",
    "lyrics = {}\n",
    "\n",
    "# Define the artist names and file paths\n",
    "artists = {\n",
    "    'cher': '/Users/Luis Perez/Documents/lyrics/cher',\n",
    "    'robyn': '/Users/Luis Perez/Documents/lyrics/robyn'\n",
    "}\n",
    "\n",
    "for artist_name, artist_path in artists.items():\n",
    "    artist_lyrics = {}\n",
    "    # loop over files on artist folder\n",
    "    for file in os.listdir(artist_path):\n",
    "        #  if lyrics file ends with .txt\n",
    "        if file.endswith(\".txt\"):\n",
    "            song_name = file.split(\"_\")[-1].split(\".\")[0]\n",
    "            with open(os.path.join(artist_path, file), 'r') as f:\n",
    "                artist_lyrics[song_name] = f.read()\n",
    "    \n",
    "    lyrics[artist_name] = artist_lyrics"
   ]
  },
  {
   "cell_type": "code",
   "execution_count": 920,
   "id": "e19287ec",
   "metadata": {},
   "outputs": [],
   "source": [
    "# Read in the twitter data\n",
    "\n",
    "artists = {\n",
    "    'cher': [],\n",
    "    'robyn': [],\n",
    "}\n",
    "for file in os.listdir(\"/Users/Luis Perez/Documents/twitter\"):\n",
    "    # first part of checking .txt file\n",
    "    if file.endswith(\"robynkonichiwa_follower_data.txt\"):\n",
    "        with open(os.path.join(\"/Users/Luis Perez/Documents/twitter\", file), 'r', encoding=\"utf-8\") as f:\n",
    "            csvFile = csv.DictReader(f, delimiter='\\t')\n",
    "            for row in csvFile:\n",
    "                if 'description' in row:\n",
    "                    artists['robyn'].append(row['description'])\n",
    "    # second part of checking .txt filer cher\n",
    "    elif file.endswith(\"cher_follower_data.txt\"):\n",
    "        with open(os.path.join(\"/Users/Luis Perez/Documents/twitter\", file), 'r', encoding=\"utf-8\") as f:\n",
    "            csvFile = csv.DictReader(f, delimiter='\\t')\n",
    "            for row in csvFile:\n",
    "                if 'description' in row:\n",
    "                    artists['cher'].append(row['description'])\n",
    "\n",
    "                            \n",
    "                    \n",
    "               "
   ]
  },
  {
   "cell_type": "markdown",
   "id": "6a5f3b12",
   "metadata": {},
   "source": [
    "## Data Cleaning\n",
    "\n",
    "Now clean and tokenize your data. Remove punctuation chacters (available in the `punctuation` object in the `string` library), split on whitespace, fold to lowercase, and remove stopwords. Store your cleaned data, which must be accessible as an interable for `descriptive_stats`, in new objects or in new columns in your data frame. \n",
    "\n"
   ]
  },
  {
   "cell_type": "code",
   "execution_count": 921,
   "id": "71c73d86",
   "metadata": {},
   "outputs": [],
   "source": [
    "punctuation = set(punctuation) # speeds up comparison"
   ]
  },
  {
   "cell_type": "code",
   "execution_count": 922,
   "id": "49808441",
   "metadata": {},
   "outputs": [],
   "source": [
    "# create your clean twitter data here\n",
    "\n",
    "\n",
    "def twitter_clean_and_tokenize(text):\n",
    "    \n",
    "    #punctuation characters except #'s'\n",
    "    text_without_hash = string.punctuation.replace(\"#\", \"\")\n",
    "    trans_table = str.maketrans(\"\", \"\", text_without_hash)\n",
    "\n",
    "    #remove punctuation\n",
    "    text = text.translate(trans_table)\n",
    "    \n",
    "    #split on whitespace\n",
    "    tokens= text.split()\n",
    "    \n",
    "    \n",
    "    # Convert the text to lowercase\n",
    "    text = text.lower()\n",
    "    \n",
    "    #remove stopwords \n",
    "    stop_words = set(stopwords.words('english'))\n",
    "    rm_stopwords= [token for token in tokens if token not in stop_words]\n",
    "    \n",
    "    return rm_stopwords \n",
    "\n",
    "# Iterate over the artists and their descriptions\n",
    "for artist, descriptions in artists.items():\n",
    "    cleaned_descriptions = []\n",
    "    for description in descriptions:\n",
    "        if description:  # check if empty\n",
    "            cleaned_descriptions.append(twitter_clean_and_tokenize(description))\n",
    "    artists[artist] = cleaned_descriptions"
   ]
  },
  {
   "cell_type": "code",
   "execution_count": 923,
   "id": "fb17a6b1",
   "metadata": {},
   "outputs": [],
   "source": [
    "#loop to access the dictionary inner lists values\n",
    "cher_clyrics_tokens = []\n",
    "for artist, songs in cleaned_lyrics.items():\n",
    "     if artist == \"cher\":\n",
    "        for song,song_list in songs.items():\n",
    "            cher_clyrics_tokens += song_list\n",
    "            \n",
    "robyn_clyrics_tokens = []\n",
    "for artist, songs in cleaned_lyrics.items():\n",
    "     if artist == \"robyn\":\n",
    "        for song,song_list in songs.items():\n",
    "            robyn_clyrics_tokens += song_list"
   ]
  },
  {
   "cell_type": "code",
   "execution_count": 924,
   "id": "1fc8f3c3",
   "metadata": {},
   "outputs": [],
   "source": [
    "#was having trouble using list of list so decided to flatten lists\n",
    "cher_twitter_flat_tokens = [artists['cher'] for sublist in artists['cher'] for artists['cher'] in sublist]\n",
    "robyn_twitter_flat_tokens = [artists['robyn'] for sublist in artists['robyn'] for artists['robyn'] in sublist]\n",
    "\n",
    "\n"
   ]
  },
  {
   "cell_type": "code",
   "execution_count": 925,
   "id": "e0f22e10",
   "metadata": {},
   "outputs": [],
   "source": [
    "# create your clean lyrics data here\n",
    "\n",
    "def lyrics_clean_and_tokenize(text):\n",
    "    \n",
    "    # Remove punctuation characters\n",
    "    text = text.translate(str.maketrans(\"\", \"\", string.punctuation))\n",
    "    \n",
    "    #split on whitespace\n",
    "    tokens= text.split()\n",
    "    \n",
    "    \n",
    "    # Convert the text to lowercase\n",
    "    text = text.lower()\n",
    "    \n",
    "    #remove stopwords \n",
    "    stop_words = set(stopwords.words('english'))\n",
    "    rm_stopwords= [token for token in tokens if token not in stop_words]\n",
    "    \n",
    "    return rm_stopwords \n",
    "\n",
    "cleaned_lyrics= {}\n",
    "cleaned_lyrics2= {}\n",
    "\n",
    "for artist, artist_lyrics in lyrics.items():\n",
    "    cleaned_lyrics[artist] = {}\n",
    "    for song,song_lyrics in artist_lyrics.items():\n",
    "        if song_lyrics:  # check if lyrics is not empty\n",
    "            cleaned_lyrics[artist][song]= lyrics_clean_and_tokenize(song_lyrics)\n",
    "            cleaned_lyrics2[song]= lyrics_clean_and_tokenize(song_lyrics)\n",
    "    \n",
    "\n",
    " "
   ]
  },
  {
   "cell_type": "markdown",
   "id": "f2dd0179",
   "metadata": {},
   "source": [
    "## Basic Descriptive Statistics\n",
    "\n",
    "Call your `descriptive_stats` function on both your lyrics data and your twitter data and for both artists (four total calls). "
   ]
  },
  {
   "cell_type": "code",
   "execution_count": 926,
   "id": "f0bbedd9",
   "metadata": {},
   "outputs": [
    {
     "name": "stdout",
     "output_type": "stream",
     "text": [
      "\n",
      "Twitter descriptions for: Cher\n",
      "There are 235394 tokens in the data.\n",
      "There are 73153 unique tokens in the data.\n",
      "There are 1372841 characters in the data.\n",
      "The lexical diversity is 0.311 in the data.\n",
      "\n",
      "Twitter descriptions for: Robyn\n",
      "There are 291103 tokens in the data.\n",
      "There are 88463 unique tokens in the data.\n",
      "There are 1750339 characters in the data.\n",
      "The lexical diversity is 0.304 in the data.\n",
      "\n",
      "lyrics descriptions for: Cher\n",
      "There are 44652 tokens in the data.\n",
      "There are 4647 unique tokens in the data.\n",
      "There are 193719 characters in the data.\n",
      "The lexical diversity is 0.104 in the data.\n",
      "\n",
      "lyrics descriptions for: Robyn\n",
      "There are 18229 tokens in the data.\n",
      "There are 2591 unique tokens in the data.\n",
      "There are 81176 characters in the data.\n",
      "The lexical diversity is 0.142 in the data.\n"
     ]
    }
   ],
   "source": [
    "# calls to descriptive_stats here\n",
    "\n",
    "#twitter section\n",
    "print(\"\\nTwitter descriptions for: Cher\")\n",
    "assert(descriptive_stats(cher_twitter_flat_tokens, verbose=True))\n",
    "print(\"\\nTwitter descriptions for: Robyn\")\n",
    "assert(descriptive_stats(robyn_twitter_flat_tokens, verbose=True))\n",
    "\n",
    "#lyrics section\n",
    "print(\"\\nlyrics descriptions for: Cher\")\n",
    "assert(descriptive_stats(cher_clyrics_tokens, verbose=True))\n",
    "print(\"\\nlyrics descriptions for: Robyn\")\n",
    "assert(descriptive_stats(robyn_clyrics_tokens, verbose=True))\n",
    "\n",
    "\n",
    "\n"
   ]
  },
  {
   "cell_type": "markdown",
   "id": "46294409",
   "metadata": {},
   "source": [
    "Q: How do you think the \"top 5 words\" would be different if we left stopwords in the data? \n",
    "\n",
    "A: If we left stopwords in the data the top 5 might consists only stopwords like of: 'a','the','are','is', 'and'\n",
    "\n",
    "---\n",
    "\n",
    "Q: What were your prior beliefs about the lexical diversity between the artists? Does the difference (or lack thereof) in lexical diversity between the artists conform to your prior beliefs? \n",
    "\n",
    "A: My prior beliefs about the lexical diversity was that their works would contain similar words in their lyrics. In other words, I was expecting that their lexical diversity would be in the lower numbers as artists do not tend to divert to much of their proven formulas---song writing, topics,etc--- according to a quick search a lexically dense text would be around 56%. \n"
   ]
  },
  {
   "cell_type": "markdown",
   "id": "4d4e1ac1",
   "metadata": {},
   "source": [
    "\n",
    "## Specialty Statistics\n",
    "\n",
    "The descriptive statistics we have calculated are quite generic. You will now calculate a handful of statistics tailored to these data.\n",
    "\n",
    "1. Ten most common emojis by artist in the twitter descriptions.\n",
    "1. Ten most common hashtags by artist in the twitter descriptions.\n",
    "1. Five most common words in song titles by artist. \n",
    "1. For each artist, a histogram of song lengths (in terms of number of tokens) \n",
    "\n",
    "We can use the `emoji` library to help us identify emojis and you have been given a function to help you.\n"
   ]
  },
  {
   "cell_type": "code",
   "execution_count": 927,
   "id": "753a5a3e",
   "metadata": {},
   "outputs": [],
   "source": [
    "assert(emoji.is_emoji(\"❤️\"))\n",
    "assert(not emoji.is_emoji(\":-)\"))"
   ]
  },
  {
   "cell_type": "markdown",
   "id": "986fc4c0",
   "metadata": {},
   "source": [
    "### Emojis 😁\n",
    "\n",
    "What are the ten most common emojis by artist in the twitter descriptions? \n"
   ]
  },
  {
   "cell_type": "code",
   "execution_count": 928,
   "id": "70af0572",
   "metadata": {},
   "outputs": [],
   "source": [
    "\n",
    "#emoji calc for robyn\n",
    "\n",
    "# list of twitter descriptions\n",
    "flat_tokens\n",
    "\n",
    "n = 10\n",
    "# create an empty dictionary to store the emojis and their frequencies\n",
    "emoji_freq = {}\n",
    "\n",
    "for description in flat_tokens:\n",
    "    #unicode for the emojis\n",
    "    desc = emoji.emojize(description)\n",
    "    for char in desc:\n",
    "        if emoji.is_emoji(char):\n",
    "            if char in emoji_freq:\n",
    "                emoji_freq[char] += 1\n",
    "            else:\n",
    "                emoji_freq[char] = 1\n",
    "\n",
    "# sort the dict by desc order\n",
    "sorted_emoji = dict(sorted(emoji_freq.items(), key=lambda x: x[1], reverse=True))\n",
    "\n",
    "#top 10 most common emojis\n",
    "robyn_top_n_emoji = dict(list(sorted_emoji.items())[:n])\n",
    "\n",
    "#emoji calc for cher\n",
    "n = 10\n",
    "emoji_freq = {}\n",
    "\n",
    "for description in flat_tokens2:\n",
    "    desc = emoji.emojize(description)\n",
    "    for char in desc:\n",
    "        if emoji.is_emoji(char):\n",
    "            if char in emoji_freq:\n",
    "                emoji_freq[char] += 1\n",
    "            else:\n",
    "                emoji_freq[char] = 1\n",
    "\n",
    "# sort the dict by desc order\n",
    "sorted_emoji = dict(sorted(emoji_freq.items(), key=lambda x: x[1], reverse=True))\n",
    "\n",
    "#top 10 most common emojis\n",
    "cher_top_n_emoji = dict(list(sorted_emoji.items())[:n])\n",
    "\n"
   ]
  },
  {
   "cell_type": "code",
   "execution_count": 929,
   "id": "143a99dc",
   "metadata": {},
   "outputs": [
    {
     "name": "stdout",
     "output_type": "stream",
     "text": [
      "Cher's top 10 emojis used in their their followers' descriptions\n",
      "{'🌈': 2184, '🏳': 1748, '❤': 835, '✨': 767, '🏻': 501, '🏼': 359, '💙': 339, '💜': 338, '🎶': 268, '🏽': 265}\n",
      "\n",
      "Robyn's top 10 emojis used in their their followers' descriptions\n",
      "{'❤': 1176, '🌈': 950, '🏳': 810, '💙': 659, '✨': 587, '🏻': 448, '💜': 357, '🖤': 343, '🌊': 326, '🏼': 309}\n"
     ]
    }
   ],
   "source": [
    "# output the top n most common emojis\n",
    "print(\"Cher's top 10 emojis used in their their followers' descriptions\")\n",
    "print(cher_top_n_emoji)\n",
    "\n",
    "print(\"\\nRobyn's top 10 emojis used in their their followers' descriptions\")\n",
    "print(robyn_top_n_emoji)"
   ]
  },
  {
   "cell_type": "markdown",
   "id": "bab9b770",
   "metadata": {},
   "source": [
    "### Hashtags\n",
    "\n",
    "What are the ten most common hashtags by artist in the twitter descriptions? \n"
   ]
  },
  {
   "cell_type": "code",
   "execution_count": 930,
   "id": "07c396f1",
   "metadata": {},
   "outputs": [
    {
     "name": "stdout",
     "output_type": "stream",
     "text": [
      "Top 10 #'s for Cher:\n"
     ]
    },
    {
     "data": {
      "text/plain": [
       "[('#blm', 130),\n",
       " ('#resist', 82),\n",
       " ('#blacklivesmatter', 61),\n",
       " ('#1', 53),\n",
       " ('#voteblue', 50),\n",
       " ('#lgbtq', 26),\n",
       " ('#bluecrew', 26),\n",
       " ('#', 24),\n",
       " ('#fbr', 20),\n",
       " ('#prochoice', 19)]"
      ]
     },
     "execution_count": 930,
     "metadata": {},
     "output_type": "execute_result"
    }
   ],
   "source": [
    "#Hastags for Cher\n",
    "hashtags = [s for s in cher_twitter_flat_tokens if s.startswith(\"#\")]\n",
    "hashtags = [s.lower() for s in hashtags]\n",
    "counts_hastags = Counter(hashtags)\n",
    "cher_top_10 = counts_hastags.most_common(10)\n",
    "\n",
    "\n",
    "print(\"Top 10 #'s for Cher:\")\n",
    "cher_top_10\n",
    "\n",
    "\n"
   ]
  },
  {
   "cell_type": "code",
   "execution_count": 931,
   "id": "fbef1aeb",
   "metadata": {},
   "outputs": [
    {
     "name": "stdout",
     "output_type": "stream",
     "text": [
      "Top 10 #'s for Robyn:\n"
     ]
    },
    {
     "data": {
      "text/plain": [
       "[('#blacklivesmatter', 212),\n",
       " ('#blm', 137),\n",
       " ('#1', 61),\n",
       " ('#music', 45),\n",
       " ('#resist', 32),\n",
       " ('#lgbtq', 27),\n",
       " ('#translivesmatter', 27),\n",
       " ('#freepalestine', 25),\n",
       " ('#blacktranslivesmatter', 20),\n",
       " ('#actuallyautistic', 19)]"
      ]
     },
     "execution_count": 931,
     "metadata": {},
     "output_type": "execute_result"
    }
   ],
   "source": [
    "#Hastags for Robyn\n",
    "robyn_hashtags = [s for s in robyn_twitter_flat_tokens if s.startswith(\"#\")]\n",
    "robyn_hashtags = [s.lower() for s in robyn_hashtags]\n",
    "r_counts_hastags = Counter(robyn_hashtags)\n",
    "robyn_top_10 = r_counts_hastags.most_common(10)\n",
    "\n",
    "print(\"Top 10 #'s for Robyn:\")\n",
    "robyn_top_10\n"
   ]
  },
  {
   "cell_type": "markdown",
   "id": "d10f21d5",
   "metadata": {},
   "source": [
    "### Song Titles\n",
    "\n",
    "What are the five most common words in song titles by artist? The song titles should be on the first line of the lyrics pages, so if you have kept the raw file contents around, you will not need to re-read the data.\n"
   ]
  },
  {
   "cell_type": "code",
   "execution_count": 932,
   "id": "f3847f42",
   "metadata": {},
   "outputs": [
    {
     "name": "stdout",
     "output_type": "stream",
     "text": [
      "Top 5 words in Cher's song titles are: \n",
      "[('The', 54), ('I', 45), ('You', 40), ('Love', 38), ('To', 28)]\n"
     ]
    }
   ],
   "source": [
    "#grabing all the songs titles from the lyrics dict \"song title (with spaces)\"\n",
    "new_list = {}\n",
    "for key, value in lyrics['cher'].items():\n",
    "    value_list = re.findall(r'\"([^\"]*)\"', value)\n",
    "    new_list[key] = value_list\n",
    "    \n",
    "#loop all the song titles to find top words\n",
    "all_words = []\n",
    "for key, value in new_list.items():\n",
    "    for song in value:\n",
    "        all_words += song.split()\n",
    "        \n",
    "common_words = Counter(all_words).most_common(5)\n",
    "print(\"Top 5 words in Cher's song titles are: \\n\" + str(common_words))"
   ]
  },
  {
   "cell_type": "code",
   "execution_count": 933,
   "id": "729b68fc",
   "metadata": {},
   "outputs": [
    {
     "name": "stdout",
     "output_type": "stream",
     "text": [
      "Top 5 words in Robyn's song titles are: \n",
      "[('Me', 11), ('You', 8), ('The', 8), ('My', 8), ('be', 6)]\n"
     ]
    }
   ],
   "source": [
    "#grabing all the songs titles from the lyrics dict \"song title (with spaces)\"\n",
    "new_list = {}\n",
    "for key, value in lyrics['robyn'].items():\n",
    "    value_list = re.findall(r'\"([^\"]*)\"', value)\n",
    "    new_list[key] = value_list\n",
    "    \n",
    "#loop all the song titles to find top words\n",
    "all_words = []\n",
    "for key, value in new_list.items():\n",
    "    for song in value:\n",
    "        all_words += song.split()\n",
    "        \n",
    "common_words = Counter(all_words).most_common(5)\n",
    "print(\"Top 5 words in Robyn's song titles are: \\n\" + str(common_words))"
   ]
  },
  {
   "cell_type": "markdown",
   "id": "5dd4fd71",
   "metadata": {},
   "source": [
    "### Song Lengths\n",
    "\n",
    "For each artist, a histogram of song lengths (in terms of number of tokens). If you put the song lengths in a data frame with an artist column, matplotlib will make the plotting quite easy. An example is given to help you out. \n"
   ]
  },
  {
   "cell_type": "code",
   "execution_count": 934,
   "id": "805a1e52",
   "metadata": {},
   "outputs": [
    {
     "data": {
      "text/plain": [
       "artist\n",
       "Artist 1    AxesSubplot(0.125,0.125;0.775x0.755)\n",
       "Artist 2    AxesSubplot(0.125,0.125;0.775x0.755)\n",
       "Name: length, dtype: object"
      ]
     },
     "execution_count": 934,
     "metadata": {},
     "output_type": "execute_result"
    },
    {
     "data": {
      "image/png": "[encoded data removed]",
      "text/plain": [
       "<Figure size 432x288 with 1 Axes>"
      ]
     },
     "metadata": {
      "needs_background": "light"
     },
     "output_type": "display_data"
    }
   ],
   "source": [
    "num_replicates = 1000\n",
    "\n",
    "df = pd.DataFrame({\n",
    "    \"artist\" : ['Artist 1'] * num_replicates + ['Artist 2']*num_replicates,\n",
    "    \"length\" : np.concatenate((np.random.poisson(125,num_replicates),np.random.poisson(150,num_replicates)))\n",
    "})\n",
    "\n",
    "df.groupby('artist')['length'].plot(kind=\"hist\",density=True,alpha=0.5,legend=True)"
   ]
  },
  {
   "cell_type": "code",
   "execution_count": 935,
   "id": "8acf816b",
   "metadata": {},
   "outputs": [],
   "source": [
    "#total tokens by per song per artist \n",
    "artists_clyrics_tokens = []\n",
    "artists = [\"cher\", \"robyn\"]\n",
    "for artist, songs in cleaned_lyrics.items():\n",
    "    if artist in artists:\n",
    "        for song,song_list in songs.items():\n",
    "            song_info = {'artist':artist, 'length':len(song_list)}\n",
    "            artists_clyrics_tokens.append(song_info)\n",
    "df = pd.DataFrame(artists_clyrics_tokens)\n",
    "\n"
   ]
  },
  {
   "cell_type": "code",
   "execution_count": 936,
   "id": "da3b002b",
   "metadata": {},
   "outputs": [
    {
     "data": {
      "text/plain": [
       "artist\n",
       "cher     AxesSubplot(0.125,0.125;0.775x0.755)\n",
       "robyn    AxesSubplot(0.125,0.125;0.775x0.755)\n",
       "Name: length, dtype: object"
      ]
     },
     "execution_count": 936,
     "metadata": {},
     "output_type": "execute_result"
    },
    {
     "data": {
      "image/png": "[encoded data removed]",
      "text/plain": [
       "<Figure size 432x288 with 1 Axes>"
      ]
     },
     "metadata": {
      "needs_background": "light"
     },
     "output_type": "display_data"
    }
   ],
   "source": [
    "df.groupby('artist')['length'].plot(kind=\"hist\",density=True,alpha=0.5,legend=True)"
   ]
  },
  {
   "cell_type": "markdown",
   "id": "8fde9ebb",
   "metadata": {},
   "source": [
    "Since the lyrics may be stored with carriage returns or tabs, it may be useful to have a function that can collapse whitespace, using regular expressions, and be used for splitting. \n",
    "\n",
    "Q: What does the regular expression `'\\s+'` match on? \n",
    "\n",
    "A: This will match on white space (spaces between words, tabs) and the + sign indicates that eithe one or more should be matched. \n"
   ]
  },
  {
   "cell_type": "code",
   "execution_count": 937,
   "id": "f0e34516",
   "metadata": {},
   "outputs": [],
   "source": [
    "collapse_whitespace = re.compile(r'\\s+')\n",
    "\n",
    "def tokenize_lyrics(lyric) : \n",
    "    \"\"\"strip and split on whitespace\"\"\"\n",
    "    return([item.lower() for item in collapse_whitespace.split(lyric)])"
   ]
  }
 ],
 "metadata": {
  "kernelspec": {
   "display_name": "Python 3",
   "language": "python",
   "name": "python3"
  },
  "language_info": {
   "codemirror_mode": {
    "name": "ipython",
    "version": 3
   },
   "file_extension": ".py",
   "mimetype": "text/x-python",
   "name": "python",
   "nbconvert_exporter": "python",
   "pygments_lexer": "ipython3",
   "version": "3.8.8"
  }
 },
 "nbformat": 4,
 "nbformat_minor": 5
}
